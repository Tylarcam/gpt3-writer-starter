{
 "cells": [
  {
   "cell_type": "code",
   "execution_count": 5,
   "id": "2c714955",
   "metadata": {},
   "outputs": [
    {
     "ename": "ModuleNotFoundError",
     "evalue": "No module named 'projectq'",
     "output_type": "error",
     "traceback": [
      "\u001b[0;31m---------------------------------------------------------------------------\u001b[0m",
      "\u001b[0;31mModuleNotFoundError\u001b[0m                       Traceback (most recent call last)",
      "\u001b[0;32m<ipython-input-5-d76fdc3284d4>\u001b[0m in \u001b[0;36m<module>\u001b[0;34m\u001b[0m\n\u001b[0;32m----> 1\u001b[0;31m \u001b[0;32mimport\u001b[0m \u001b[0mprojectq\u001b[0m\u001b[0;34m\u001b[0m\u001b[0;34m\u001b[0m\u001b[0m\n\u001b[0m",
      "\u001b[0;31mModuleNotFoundError\u001b[0m: No module named 'projectq'"
     ]
    }
   ],
   "source": [
    "import projectq "
   ]
  },
  {
   "cell_type": "code",
   "execution_count": 1,
   "id": "8d56dacf",
   "metadata": {},
   "outputs": [
    {
     "ename": "ModuleNotFoundError",
     "evalue": "No module named 'projectq'",
     "output_type": "error",
     "traceback": [
      "\u001b[0;31m---------------------------------------------------------------------------\u001b[0m",
      "\u001b[0;31mModuleNotFoundError\u001b[0m                       Traceback (most recent call last)",
      "\u001b[0;32m<ipython-input-1-26f16faa856b>\u001b[0m in \u001b[0;36m<module>\u001b[0;34m\u001b[0m\n\u001b[0;32m----> 1\u001b[0;31m \u001b[0;32mimport\u001b[0m \u001b[0mprojectq\u001b[0m\u001b[0;34m\u001b[0m\u001b[0;34m\u001b[0m\u001b[0m\n\u001b[0m\u001b[1;32m      2\u001b[0m \u001b[0;32mfrom\u001b[0m \u001b[0mprojectq\u001b[0m\u001b[0;34m.\u001b[0m\u001b[0mops\u001b[0m \u001b[0;32mimport\u001b[0m \u001b[0mX\u001b[0m\u001b[0;34m,\u001b[0m \u001b[0mMeasure\u001b[0m\u001b[0;34m\u001b[0m\u001b[0;34m\u001b[0m\u001b[0m\n",
      "\u001b[0;31mModuleNotFoundError\u001b[0m: No module named 'projectq'"
     ]
    }
   ],
   "source": [
    "import projectq \n",
    "from projectq.ops import X, Measure "
   ]
  },
  {
   "cell_type": "code",
   "execution_count": null,
   "id": "5369c391",
   "metadata": {},
   "outputs": [],
   "source": [
    "def create_circuit(qubits): \n",
    "    circuit = projectq.MainEngine() \n",
    "    qubit = circuit.allocate_qureg(qubits) "
   ]
  },
  {
   "cell_type": "code",
   "execution_count": null,
   "id": "904cba2e",
   "metadata": {},
   "outputs": [],
   "source": [
    "for qubit in qubits: \n",
    "        X | qubit \n",
    "Measure | qubit \n",
    "circuit.flush()\n",
    "    \n",
    "return circuit "
   ]
  },
  {
   "cell_type": "code",
   "execution_count": null,
   "id": "1de2cd4d",
   "metadata": {},
   "outputs": [],
   "source": [
    "qubits = 8 \n",
    "circuit = create_circuit(qubits) \n",
    "print(circuit)"
   ]
  }
 ],
 "metadata": {
  "kernelspec": {
   "display_name": "Python 3",
   "language": "python",
   "name": "python3"
  },
  "language_info": {
   "codemirror_mode": {
    "name": "ipython",
    "version": 3
   },
   "file_extension": ".py",
   "mimetype": "text/x-python",
   "name": "python",
   "nbconvert_exporter": "python",
   "pygments_lexer": "ipython3",
   "version": "3.7.6"
  }
 },
 "nbformat": 4,
 "nbformat_minor": 5
}
